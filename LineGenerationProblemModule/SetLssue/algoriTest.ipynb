{
 "cells": [
  {
   "cell_type": "code",
   "execution_count": 23,
   "metadata": {
    "collapsed": true
   },
   "outputs": [],
   "source": [
    "import algori as al\n",
    "import numpy as np\n",
    "from sympy import *\n",
    "from  algori import *"
   ]
  },
  {
   "cell_type": "code",
   "execution_count": 24,
   "outputs": [],
   "source": [
    "m3 = Matrix([[1, -1], [3, 4], [0, 2]])\n"
   ],
   "metadata": {
    "collapsed": false
   }
  },
  {
   "cell_type": "code",
   "execution_count": 25,
   "outputs": [
    {
     "data": {
      "text/plain": "Matrix([\n[1, -1],\n[3,  4],\n[0,  2]])",
      "text/latex": "$\\displaystyle \\left[\\begin{matrix}1 & -1\\\\3 & 4\\\\0 & 2\\end{matrix}\\right]$"
     },
     "execution_count": 25,
     "metadata": {},
     "output_type": "execute_result"
    }
   ],
   "source": [
    "m3\n"
   ],
   "metadata": {
    "collapsed": false
   }
  },
  {
   "cell_type": "code",
   "execution_count": 25,
   "outputs": [],
   "source": [],
   "metadata": {
    "collapsed": false
   }
  },
  {
   "cell_type": "code",
   "execution_count": 26,
   "outputs": [
    {
     "name": "stdout",
     "output_type": "stream",
     "text": [
      "hello\n"
     ]
    }
   ],
   "source": [
    "testlist = ['h','e','l','l','o']\n",
    "teststr = \"\".join(testlist)\n",
    "print(teststr)"
   ],
   "metadata": {
    "collapsed": false
   }
  },
  {
   "cell_type": "code",
   "execution_count": 27,
   "outputs": [
    {
     "name": "stdout",
     "output_type": "stream",
     "text": [
      "7\n"
     ]
    }
   ],
   "source": [
    "import numpy as np\n",
    "def amount(b):\n",
    "    counts=[np.sum(b[:i]>bb) for i,bb in enumerate(b)]\n",
    "    return np.sum(counts)\n",
    "a=amount(np.array([4,2,5,3,1]))\n",
    "print(a)\n"
   ],
   "metadata": {
    "collapsed": false
   }
  },
  {
   "cell_type": "code",
   "execution_count": 28,
   "outputs": [
    {
     "data": {
      "text/plain": "Matrix([\n[90, 93, 30],\n[50, 74, 33],\n[46, 79, 25]])",
      "text/latex": "$\\displaystyle \\left[\\begin{matrix}90 & 93 & 30\\\\50 & 74 & 33\\\\46 & 79 & 25\\end{matrix}\\right]$"
     },
     "execution_count": 28,
     "metadata": {},
     "output_type": "execute_result"
    }
   ],
   "source": [
    "from numpy import random\n",
    "\n",
    "Matrix(random.randint(1,100,size=(3,3)))\n",
    "\n",
    "\n",
    "#输出\n",
    "\n",
    "#array([[74,76,46],[90,16,8],[21,41,31]])"
   ],
   "metadata": {
    "collapsed": false
   }
  },
  {
   "cell_type": "code",
   "execution_count": 29,
   "outputs": [
    {
     "ename": "NameError",
     "evalue": "name 'rd' is not defined",
     "output_type": "error",
     "traceback": [
      "\u001B[1;31m---------------------------------------------------------------------------\u001B[0m",
      "\u001B[1;31mNameError\u001B[0m                                 Traceback (most recent call last)",
      "Cell \u001B[1;32mIn[29], line 1\u001B[0m\n\u001B[1;32m----> 1\u001B[0m a \u001B[38;5;241m=\u001B[39m \u001B[43mrd\u001B[49m\u001B[38;5;241m.\u001B[39mrandint(\u001B[38;5;241m0\u001B[39m,\u001B[38;5;241m10\u001B[39m,(\u001B[38;5;241m5\u001B[39m,\u001B[38;5;241m5\u001B[39m))\n",
      "\u001B[1;31mNameError\u001B[0m: name 'rd' is not defined"
     ]
    }
   ],
   "source": [
    "a = rd.randint(0,10,(5,5))"
   ],
   "metadata": {
    "collapsed": false
   }
  },
  {
   "cell_type": "code",
   "execution_count": null,
   "outputs": [],
   "source": [
    "import numpy as np\n",
    "from numpy import random as rd\n",
    "a = rd.randint(0,10,(5,5))  #生成一个尺寸为5*5，取值在0-10之间的随机矩阵\n",
    "a1 = a.reshape(25,order='F')#25为reshape后的向量尺寸，order表示拉列向量的方式，‘F’表示按列拉\n",
    "a2 = a.reshape(25,order='C')#‘C’表示按行，具体结果示例见下图\n",
    "a3=a.T\n",
    "print (a)\n",
    "print (a1)\n",
    "print (a2)\n"
   ],
   "metadata": {
    "collapsed": false
   }
  },
  {
   "cell_type": "code",
   "execution_count": null,
   "outputs": [],
   "source": [
    "np.random.randint(0,10,(4,3))"
   ],
   "metadata": {
    "collapsed": false
   }
  },
  {
   "cell_type": "code",
   "execution_count": null,
   "outputs": [],
   "source": [
    "def setDeterEvaluation(long=4,wid=4):  # 随机产生一个long行wid列的行列式\n",
    "    ranMat = Matrix(np.random.randint(0,10,(long,wid)))\n",
    "    print(ranMat)\n",
    "    return ranMat\n",
    "a=setDeterEvaluation()\n",
    "a"
   ],
   "metadata": {
    "collapsed": false
   }
  },
  {
   "cell_type": "code",
   "execution_count": null,
   "outputs": [],
   "source": [
    "a = np.array([[1,2], [3,4]])\n",
    "ans = np.linalg.det(a) #1*4-2*3=-2\n",
    "print(int(ans))"
   ],
   "metadata": {
    "collapsed": false
   }
  },
  {
   "cell_type": "code",
   "execution_count": null,
   "outputs": [],
   "source": [
    "ranMat = np.random.randint(0,10,(4,4))\n",
    "ans = int(np.linalg.det(np.array(ranMat))) # 先计算计算行列式的值，把行列式的值控制在\n",
    "while ans < -10 or ans >100:\n",
    "    ranMat = np.random.randint(0,10,(4,4))\n",
    "    ans = int(np.linalg.det(np.array(ranMat)))  # 计算行列式的值\n",
    "a=Matrix(ranMat)\n",
    "print(ans)\n",
    "a"
   ],
   "metadata": {
    "collapsed": false
   }
  },
  {
   "cell_type": "code",
   "execution_count": null,
   "outputs": [],
   "source": [
    "kangkang = Topic(' kangkang ', 1906210117)\n",
    "print('\\n-----------------------随机数生成测试----------------------------\\n')\n",
    "for i in range(5):\n",
    "    ranNumtest = kangkang.setReverNum()\n",
    "    print(ranNumtest)\n",
    "print('\\n-----------------------类方法求逆序数测试----------------------------\\n')\n",
    "testnum=['321','123','4321','64351','7654123','4521376']\n",
    "for i in testnum:\n",
    "    print(f'{i}的逆序数是{Topic.getReverNum(i)}')\n",
    "\n",
    "print('\\n-----------------------类方法随机行列式测试----------------------------\\n')\n",
    "for i in range(3):\n",
    "    testDeterEvaluation=Topic.setDeterminant(0,10,5,1,30)\n",
    "    print(testDeterEvaluation)\n",
    "print('\\n-----------------------行列式计算----------------------------\\n')\n",
    "print('行列式', testDeterEvaluation, '的值为', kangkang.getDeterminant(testDeterEvaluation))\n",
    "print('\\n-----------------------类方法行列式计算----------------------------\\n')\n",
    "for i in range(3):\n",
    "    testDeterEvaluation1 = Topic.setDeterminant(0, 10, 4,  1, 30)\n",
    "    ans1 =Topic.getDeterminant(testDeterEvaluation1)\n",
    "    print(f'{testDeterEvaluation1}的行列式值为{ans1}')\n",
    "print('\\n-----------------------随机矩阵测试----------------------------\\n')\n",
    "testMat=kangkang.setMat()\n",
    "print(testMat)\n",
    "print('\\n-----------------------类方法随机矩阵测试----------------------------\\n')\n",
    "for i in range(3):\n",
    "    testMat = Topic.setMat(0,2,3,4)\n",
    "    print(testMat)\n",
    "print('\\n-----------------------阶梯矩阵测试----------------------------\\n')\n",
    "print(kangkang.getStepMat(testMat))"
   ],
   "metadata": {
    "collapsed": false
   }
  },
  {
   "cell_type": "code",
   "execution_count": null,
   "outputs": [],
   "source": [
    "print('\\n-----------------------求逆序数测试----------------------------\\n')\n",
    "ReverNum=kangkang.getReverNum(ranNumtest)\n",
    "print(f'{ranNumtest}的逆序数是{ReverNum}')"
   ],
   "metadata": {
    "collapsed": false
   }
  },
  {
   "cell_type": "code",
   "execution_count": null,
   "outputs": [],
   "source": [
    "print('\\n-----------------------随机行列式测试----------------------------\\n')\n",
    "for i in range(3):\n",
    "    test=kangkang.setDeterminant()\n",
    "    test\n",
    "test"
   ],
   "metadata": {
    "collapsed": false
   }
  },
  {
   "cell_type": "code",
   "execution_count": null,
   "outputs": [],
   "source": [
    "print('\\n-----------------------类方法随机矩阵测试----------------------------\\n')\n",
    "for i in range(3):\n",
    "    testMat = Topic.setMat(0,2,3,4)\n",
    "    testMat\n"
   ],
   "metadata": {
    "collapsed": false
   }
  },
  {
   "cell_type": "code",
   "execution_count": null,
   "outputs": [],
   "source": [
    "arr = np.array([[1, 2, 3, 4], [5, 6, 7, 8]])\n",
    "\n",
    "for idx, x in np.ndenumerate(arr):\n",
    "    arr[idx[0]][idx[1]]=4\n",
    "    print(idx, x)\n",
    "for idx, x in np.ndenumerate(arr):\n",
    "    print(idx, x)"
   ],
   "metadata": {
    "collapsed": false
   }
  },
  {
   "cell_type": "code",
   "execution_count": null,
   "outputs": [],
   "source": [
    "a=Matrix([[9, 1, 6, 7, 6], [0, 8, 6, 3, 4], [0, 0, 7, 5, 0], [0, 0, 0, 10, 0]])\n",
    "\n",
    "a"
   ],
   "metadata": {
    "collapsed": false
   }
  },
  {
   "cell_type": "code",
   "execution_count": null,
   "outputs": [],
   "source": [
    "Matrix([[3, 2, 1, 5, 2], [0, -1, 7, -22, -1], [0, 0, 12, -6, 3], [0, 0, 0, 594, 99]])"
   ],
   "metadata": {
    "collapsed": false
   }
  },
  {
   "cell_type": "code",
   "execution_count": null,
   "outputs": [],
   "source": [
    "random.randint(1, 10)"
   ],
   "metadata": {
    "collapsed": false
   }
  },
  {
   "cell_type": "code",
   "execution_count": null,
   "outputs": [],
   "source": [
    "a=Matrix([[3, 5, 0, 2, 4], [0, 1, 3, 3, 4], [0, 0, 4, 6, 6], [0, 0, 0, 2, 1]])\n",
    "a"
   ],
   "metadata": {
    "collapsed": false
   }
  },
  {
   "cell_type": "code",
   "execution_count": null,
   "outputs": [],
   "source": [
    "z=Topic.setReverNum()\n",
    "z"
   ],
   "metadata": {
    "collapsed": false
   }
  },
  {
   "cell_type": "code",
   "execution_count": null,
   "outputs": [],
   "source": [
    "Topic.getReverNum(z)"
   ],
   "metadata": {
    "collapsed": false
   }
  },
  {
   "cell_type": "code",
   "execution_count": null,
   "outputs": [],
   "source": [
    "b=Topic.setDeterminant()\n",
    "b"
   ],
   "metadata": {
    "collapsed": false
   }
  },
  {
   "cell_type": "code",
   "execution_count": null,
   "outputs": [],
   "source": [
    "Topic.getDeterminant(b)"
   ],
   "metadata": {
    "collapsed": false
   }
  },
  {
   "cell_type": "code",
   "execution_count": null,
   "outputs": [],
   "source": [
    "c=Topic.setMat()\n",
    "c"
   ],
   "metadata": {
    "collapsed": false
   }
  },
  {
   "cell_type": "code",
   "execution_count": null,
   "outputs": [],
   "source": [
    "Matrix([[2, 5, 3, 2, 2], [0, 6, 0, 6, 2], [0, 0, 0, 1, 4], [0, 0, 0, 2, 2]])"
   ],
   "metadata": {
    "collapsed": false
   }
  },
  {
   "cell_type": "code",
   "execution_count": null,
   "outputs": [],
   "source": [
    "Matrix([[2, 5, 2, 1, 0], [0, 6, 5, 4, 0], [0, 0, 4, 4, 1], [0, 0, 0, 2, 3]]).echelon_form()"
   ],
   "metadata": {
    "collapsed": false
   }
  },
  {
   "cell_type": "code",
   "execution_count": null,
   "outputs": [],
   "source": [
    "Matrix([[1, 0, 0, 0, 1], [0, 1, 0, 0, 0], [0, 0, 1, 0, 0], [0, 0, 0, 1, 0]])\n"
   ],
   "metadata": {
    "collapsed": false
   }
  },
  {
   "cell_type": "code",
   "execution_count": null,
   "outputs": [],
   "source": [
    "Matrix([[1, 0, 0, 3, 1], [0, 1, 0, 0, 0], [0, 0, 1, 0, 0], [0, 0, 0, 1, 0]])"
   ],
   "metadata": {
    "collapsed": false
   }
  },
  {
   "cell_type": "code",
   "execution_count": null,
   "outputs": [],
   "source": [
    "Matrix([[2, 0, 1, 0, 6], [38, 2, 0, 1, 16], [101, 4, 0, 0, 34], [19, 1, 0, 0, 5]])"
   ],
   "metadata": {
    "collapsed": false
   }
  },
  {
   "cell_type": "code",
   "execution_count": null,
   "outputs": [],
   "source": [
    "Matrix([[1, 0, 0, 0, 3], [0, 1, 0, 0, 0], [0, 0, 1, 0, 6], [0, 0, 0, 1, 1]])"
   ],
   "metadata": {
    "collapsed": false
   }
  },
  {
   "cell_type": "code",
   "execution_count": null,
   "outputs": [],
   "source": [
    "Matrix([[1, 0, 0, 0, 3], [0, 3, 0, 0, 0], [0, 0, 1, 0, 6], [2, 0, 0, 1, 10]]).rref()[0]"
   ],
   "metadata": {
    "collapsed": false
   }
  },
  {
   "cell_type": "code",
   "execution_count": null,
   "outputs": [],
   "source": [
    "Matrix([[5, 0, 1, 0, 5], [1, 0, 0, 0, 0], [0, 1, 0, 0, 0], [0, 0, 0, 1, 0]]).rref()[0]"
   ],
   "metadata": {
    "collapsed": false
   }
  },
  {
   "cell_type": "code",
   "execution_count": null,
   "outputs": [],
   "source": [
    "Matrix([[0, 6, 1, 5, 101], [10, 0, 0, 0, 12], [0, 2, 0, 4, 48], [0, 6, 3, 26, 206]])"
   ],
   "metadata": {
    "collapsed": false
   }
  },
  {
   "cell_type": "code",
   "execution_count": null,
   "outputs": [],
   "source": [
    "Matrix([[0, 6, 1, 5, 101], [10, 0, 0, 0, 12], [0, 2, 0, 4, 48], [0, 6, 3, 26, 206]]).rref()[0]"
   ],
   "metadata": {
    "collapsed": false
   }
  },
  {
   "cell_type": "code",
   "execution_count": null,
   "outputs": [],
   "source": [
    "Matrix([[1, 0, 0, 0, 5], [0, 1, 0, 0, 1], [0, 0, 1, 0, 2], [0, 0, 0, 1, 2]])"
   ],
   "metadata": {
    "collapsed": false
   }
  },
  {
   "cell_type": "code",
   "execution_count": null,
   "outputs": [],
   "source": [
    "Matrix([[1, 0, 0, 0, 3], [0, 1, 0, 0, 0], [0, 0, 4, 0, 0], [0, 0, 0, 2, 0]]).rref()[0].rref()[0]"
   ],
   "metadata": {
    "collapsed": false
   }
  },
  {
   "cell_type": "code",
   "execution_count": null,
   "outputs": [],
   "source": [
    "Matrix([[1, 0, 0, 0, 0], [0, 1, 0, 0, 0], [0, 0, 1, 0, 0], [0, 0, 0, 1, 6]])"
   ],
   "metadata": {
    "collapsed": false
   }
  },
  {
   "cell_type": "code",
   "execution_count": null,
   "outputs": [],
   "source": [
    "Matrix([[1, 0, 0, 0, 2], [0, 1, 0, 0, 0], [0, 0, 1, 0, 1], [0, 0, 0, 1, 3]])"
   ],
   "metadata": {
    "collapsed": false
   }
  },
  {
   "cell_type": "code",
   "execution_count": null,
   "outputs": [],
   "source": [
    "Matrix([[1, 0, 0, 0, 1], [0, 1, 0, 0, 2], [0, 0, 1, 0, 3], [0, 0, 0, 1, 3]])"
   ],
   "metadata": {
    "collapsed": false
   }
  },
  {
   "cell_type": "code",
   "execution_count": null,
   "outputs": [],
   "source": [
    "Matrix([[1, 0, 4, 0, 7], [0, 1, 0, 3, 14], [0, 0, 1, 0, 3], [0, 0, 0, 1, 3]])"
   ],
   "metadata": {
    "collapsed": false
   }
  },
  {
   "cell_type": "code",
   "execution_count": null,
   "outputs": [],
   "source": [
    "Matrix([[1, 0, 4, 0, 7], [0, 1, 0, 3, 14], [0, 0, 1, 0, 3], [0, 0, 0, 1, 3]]).rref()[0]"
   ],
   "metadata": {
    "collapsed": false
   }
  },
  {
   "cell_type": "code",
   "execution_count": null,
   "outputs": [],
   "source": [
    "\n",
    "long=4\n",
    "wid=5\n",
    "minNum=0\n",
    "maxNum=6\n",
    "ranMat = Matrix(np.random.randint(minNum, maxNum, (long, wid))) # 随机产生一个用minNum-maxNum数字构成的long行wid列的矩阵\n",
    "stepMat = ranMat.rref()[0]\n",
    "\n",
    "for idx, x in np.ndenumerate(stepMat):   # 确保行阶梯的矩阵\n",
    "    stepMat[idx[0] * stepMat.shape[1] + idx[1]]=int(stepMat[idx[0] * stepMat.shape[1] + idx[1]])\n",
    "    if x < minNum or x > maxNum:\n",
    "        stepMat[idx[0]*stepMat.shape[1]+idx[1]] =sympy.Integer(random.randint(minNum,maxNum))  # 将矩阵中的行列式取整\n",
    "stepMat\n",
    "\n"
   ],
   "metadata": {
    "collapsed": false
   }
  },
  {
   "cell_type": "code",
   "execution_count": null,
   "outputs": [],
   "source": [
    "for i in range(1):\n",
    "    x = random.randint(0, stepMat.shape[0] - 1)\n",
    "    y= random.randint(0, stepMat.shape[0] - 1)\n",
    "    if x!=y:\n",
    "        a = list(stepMat.row(x))\n",
    "        n=random.randint(2, maxNum)\n",
    "        b=   list(map(lambda x: x *n , stepMat.row(y)))\n",
    "        print('x行',stepMat.row(x))\n",
    "        print('a',a)\n",
    "        print('y行',stepMat.row(y))\n",
    "        print('b',b)\n",
    "        c = Matrix([np.sum([a, b], axis=0)])\n",
    "        print(c)\n",
    "        stepMat.row_del(x)\n",
    "        stepMat = stepMat.row_insert(x, c)\n"
   ],
   "metadata": {
    "collapsed": false
   }
  },
  {
   "cell_type": "code",
   "execution_count": null,
   "outputs": [],
   "source": [
    "stepMat"
   ],
   "metadata": {
    "collapsed": false
   }
  },
  {
   "cell_type": "code",
   "execution_count": null,
   "outputs": [],
   "source": [
    "Matrix([[1, 0, 0, 0, 0], [0, 1, 0, 0, 5], [0, 0, 1, 0, 0], [0, 0, 0, 1, 0]])"
   ],
   "metadata": {
    "collapsed": false
   }
  },
  {
   "cell_type": "code",
   "execution_count": null,
   "outputs": [],
   "source": [
    "Matrix([[1, 0, 0, 3, 0], [0, 1, 0, 6, 5], [0, 0, 1, 0, 0], [0, 2, 0, 13, 10]])"
   ],
   "metadata": {
    "collapsed": false
   }
  },
  {
   "cell_type": "code",
   "execution_count": null,
   "outputs": [],
   "source": [
    "Matrix([[1, 0, 0, 3, 0], [0, 1, 0, 6, 5], [0, 0, 1, 0, 0], [0, 2, 0, 13, 10]]).rref()[0]"
   ],
   "metadata": {
    "collapsed": false
   }
  },
  {
   "cell_type": "code",
   "execution_count": null,
   "outputs": [],
   "source": [
    "Matrix([[1, 0, 0, 0, 0], [0, 1, 0, 0, 0], [0, 0, 1, 0, 0], [0, 0, 0, 1, 5]])"
   ],
   "metadata": {
    "collapsed": false
   }
  },
  {
   "cell_type": "code",
   "execution_count": null,
   "outputs": [],
   "source": [
    "Matrix([[1, 0, 0, 0, 0], [0, 1, 0, 0, 6], [0, 0, 1, 0, 1], [0, 0, 0, 1, 1]])"
   ],
   "metadata": {
    "collapsed": false
   }
  },
  {
   "cell_type": "code",
   "execution_count": null,
   "outputs": [],
   "source": [
    "Matrix([[6, 1, 2, 19, 27], [3, 0, 1, 8, 9], [3, 0, 0, 7, 7], [1, 0, 0, 2, 2]])\n"
   ],
   "metadata": {
    "collapsed": false
   }
  },
  {
   "cell_type": "code",
   "execution_count": null,
   "outputs": [],
   "source": [
    "Matrix([[6, 1, 2, 19, 27], [3, 0, 1, 8, 9], [3, 0, 0, 7, 7], [1, 0, 0, 2, 2]]).echelon_form()"
   ],
   "metadata": {
    "collapsed": false
   }
  },
  {
   "cell_type": "code",
   "execution_count": null,
   "outputs": [],
   "source": [
    "Matrix([[6, 1, 2, 19, 27], [3, 0, 1, 8, 9], [3, 0, 0, 7, 7], [1, 0, 0, 2, 2]]).rref()[0]\n"
   ],
   "metadata": {
    "collapsed": false
   }
  },
  {
   "cell_type": "code",
   "execution_count": null,
   "outputs": [],
   "source": [
    "Matrix([[6, 1, 3, 36, 55], [2, 0, 1, 11, 17], [1, 0, 0, 4, 4], [1, 0, 0, 3, 3]]).echelon_form()\n"
   ],
   "metadata": {
    "collapsed": false
   }
  },
  {
   "cell_type": "code",
   "execution_count": null,
   "outputs": [],
   "source": [
    "Matrix([[9, 1, 1, 15, 0], [9, 0, 1, 13, 0], [3, 0, 0, 4, 0], [1, 0, 0, 1, 0]])"
   ],
   "metadata": {
    "collapsed": false
   }
  },
  {
   "cell_type": "code",
   "execution_count": null,
   "outputs": [],
   "source": [
    "Matrix([[9, 1, 1, 15, 0], [0, -9, 0, -18, 0], [0, 0, 27, 27, 0], [0, 0, 0, 729, 0]])"
   ],
   "metadata": {
    "collapsed": false
   }
  },
  {
   "cell_type": "code",
   "execution_count": null,
   "outputs": [],
   "source": [
    "Matrix([[18, 1, 3, 38, 39], [6, 0, 1, 12, 12], [2, 0, 0, 3, 3], [1, 0, 0, 1, 1]])"
   ],
   "metadata": {
    "collapsed": false
   }
  },
  {
   "cell_type": "code",
   "execution_count": null,
   "outputs": [],
   "source": [
    "Matrix([[18, 1, 3, 38, 39], [0, -6, 0, -12, -18], [0, 0, 36, 108, 108], [0, 0, 0, 1944, 1944]])"
   ],
   "metadata": {
    "collapsed": false
   }
  },
  {
   "cell_type": "code",
   "execution_count": null,
   "outputs": [],
   "source": [
    "Matrix([[8, 1, 2, 27, 18], [4, 0, 1, 13, 9], [2, 0, 0, 5, 4], [1, 0, 0, 2, 2]])"
   ],
   "metadata": {
    "collapsed": false
   }
  },
  {
   "cell_type": "code",
   "execution_count": null,
   "outputs": [],
   "source": [
    " Matrix([[8, 1, 2, 27, 18], [0, -4, 0, -4, 0], [0, 0, 16, 48, 16], [0, 0, 0, 256, 0]])"
   ],
   "metadata": {
    "collapsed": false
   }
  },
  {
   "cell_type": "code",
   "execution_count": null,
   "outputs": [],
   "source": [
    "Matrix([[9, 1, 3, 39, 9], [3, 0, 1, 12, 3], [1, 0, 0, 3, 0], [1, 0, 0, 2, 0]])"
   ],
   "metadata": {
    "collapsed": false
   }
  },
  {
   "cell_type": "code",
   "execution_count": null,
   "outputs": [],
   "source": [
    "Matrix([[9, 1, 3, 39, 9], [0, -3, 0, -9, 0], [0, 0, 9, 27, 27], [0, 0, 0, 243, 0]])"
   ],
   "metadata": {
    "collapsed": false
   }
  },
  {
   "cell_type": "code",
   "execution_count": null,
   "outputs": [],
   "source": [
    " Matrix([[4, 1, 2, 25, 27], [0, -2, 0, -6, -6], [0, 0, 4, 12, 16], [0, 0, 0, 32, 32]])"
   ],
   "metadata": {
    "collapsed": false
   }
  },
  {
   "cell_type": "code",
   "execution_count": null,
   "outputs": [],
   "source": [
    "Matrix([[0, 9, 1, 23], [0, 3, 0, 7], [0, 1, 0, 2]])"
   ],
   "metadata": {
    "collapsed": false
   }
  },
  {
   "cell_type": "code",
   "execution_count": null,
   "outputs": [],
   "source": [
    "Matrix([[6, 1, 3, 27, 3], [0, -2, 0, -6, 0], [0, 0, 12, 36, 12], [0, 0, 0, 72, 0]])"
   ],
   "metadata": {
    "collapsed": false
   }
  },
  {
   "cell_type": "code",
   "execution_count": null,
   "outputs": [],
   "source": [
    "Matrix([[6, 1, 3, 27, 3], [2, 0, 1, 8, 1], [2, 0, 0, 5, 0], [1, 0, 0, 2, 0]])"
   ],
   "metadata": {
    "collapsed": false
   }
  },
  {
   "cell_type": "code",
   "execution_count": null,
   "outputs": [],
   "source": [
    " Matrix([[1, 0, 0, 0, 0], [0, 1, 1, 0, 0], [0, 0, 0, 1, 0], [0, 0, 0, 0, 1]])"
   ],
   "metadata": {
    "collapsed": false
   }
  },
  {
   "cell_type": "code",
   "execution_count": null,
   "outputs": [],
   "source": [
    " Matrix([[1, 0, 0, 0, 0], [0, 1, 1, 0, 0], [0, 0, 0, 1, 0], [0, 0, 0, 0, 1]])"
   ],
   "metadata": {
    "collapsed": false
   }
  },
  {
   "cell_type": "code",
   "execution_count": null,
   "outputs": [],
   "source": [
    "Matrix([[9, 1, 1, 1, 34], [9, 0, 0, 1, 31], [3, 0, 0, 0, 10], [1, 0, 0, 0, 3]])"
   ],
   "metadata": {
    "collapsed": false
   }
  },
  {
   "cell_type": "code",
   "execution_count": null,
   "outputs": [],
   "source": [
    "Matrix([[9, 1, 1, 1, 34], [9, 0, 0, 1, 31], [3, 0, 0, 0, 10], [1, 0, 0, 0, 3]]).rref()[0]"
   ],
   "metadata": {
    "collapsed": false
   }
  },
  {
   "cell_type": "code",
   "execution_count": null,
   "outputs": [],
   "source": [
    "\n",
    "kangkang = Topic(' kangkang ', 1906210117)\n",
    "testmat = kangkang.setMat()\n",
    "testmat"
   ],
   "metadata": {
    "collapsed": false
   }
  },
  {
   "cell_type": "code",
   "execution_count": null,
   "outputs": [],
   "source": [
    "kangkang.getMiniMat(testmat)"
   ],
   "metadata": {
    "collapsed": false
   }
  },
  {
   "cell_type": "code",
   "execution_count": null,
   "outputs": [],
   "source": [
    "a=Matrix([[4, 1, 2, 7], [0, 1, 0, 8], [9, 0, 5, 3], [8, 0, 3, 3]])"
   ],
   "metadata": {
    "collapsed": false
   }
  },
  {
   "cell_type": "code",
   "execution_count": null,
   "outputs": [],
   "source": [
    "print(np.linalg.inv(a))"
   ],
   "metadata": {
    "collapsed": false
   }
  },
  {
   "cell_type": "code",
   "execution_count": null,
   "outputs": [],
   "source": [
    "test = kangkang.setDeterminant(3)\n",
    "test"
   ],
   "metadata": {
    "collapsed": false
   }
  },
  {
   "cell_type": "code",
   "execution_count": null,
   "outputs": [],
   "source": [
    "test.inv()"
   ],
   "metadata": {
    "collapsed": false
   }
  },
  {
   "cell_type": "code",
   "execution_count": null,
   "outputs": [],
   "source": [
    "test = kangkang.setDeterminant(3,inver=True)\n",
    "test.inv()"
   ],
   "metadata": {
    "collapsed": false
   }
  },
  {
   "cell_type": "code",
   "execution_count": null,
   "outputs": [],
   "source": [
    "test.inv()"
   ],
   "metadata": {
    "collapsed": false
   }
  },
  {
   "cell_type": "code",
   "execution_count": null,
   "outputs": [],
   "source": [
    "test = kangkang.setDeterminant(3)\n",
    "test.inv()"
   ],
   "metadata": {
    "collapsed": false
   }
  },
  {
   "cell_type": "code",
   "execution_count": null,
   "outputs": [],
   "source": [
    "import numpy\n",
    "count=0\n",
    "mat=Topic.setMat(1,3)\n",
    "print(mat)\n",
    "while count<3:\n",
    "    x1=Topic.setMat(1,3,-10,10)\n",
    "    print(x1)\n",
    "    y1=Topic.setMat(3,1,-10,10)\n",
    "    print(y1)\n",
    "    c1=list(x1*y1)[0]\n",
    "    print(\"c\",c1)\n",
    "    if c1==1:\n",
    "        mat=np.insert(mat, -1, values=x1, axis=0)\n",
    "        count+=1\n",
    "mat=np.delete(mat,0,axis=0)\n"
   ],
   "metadata": {
    "collapsed": false
   }
  },
  {
   "cell_type": "code",
   "execution_count": null,
   "outputs": [],
   "source": [],
   "metadata": {
    "collapsed": false
   }
  },
  {
   "cell_type": "code",
   "execution_count": null,
   "outputs": [],
   "source": [
    "mat=Matrix(mat)\n",
    "print(mat)\n",
    "mat.inv()"
   ],
   "metadata": {
    "collapsed": false
   }
  },
  {
   "cell_type": "code",
   "execution_count": null,
   "outputs": [],
   "source": [],
   "metadata": {
    "collapsed": false
   }
  },
  {
   "cell_type": "code",
   "execution_count": null,
   "outputs": [],
   "source": [],
   "metadata": {
    "collapsed": false
   }
  },
  {
   "cell_type": "code",
   "execution_count": null,
   "outputs": [],
   "source": [
    "count = 0\n",
    "long=3\n",
    "mat = Topic.setMat(1, long)\n",
    "mat2=Topic.setMat(long, 1)\n",
    "while count<long:\n",
    "    x1 = Topic.setMat(1, long, -10,  10)  # 随机产生1*long长度的矩阵\n",
    "    y1 = Topic.setMat(long, 1, -10,  10)  # 随机产生long*1的矩阵\n",
    "    c1 = list(x1 * y1)[0]\n",
    "    if c1 == 1:  # 判断两矩阵相乘是否为一\n",
    "        mat = np.insert(mat, -1, values=x1, axis=0)\n",
    "        mat2= np.insert(mat2, -1, values=y1, axis=1)\n",
    "        count += 1\n",
    "ranMat = Matrix(np.delete(mat, 0, axis=0))\n",
    "ranMat2 = Matrix(np.delete(mat2, 0, axis=1))\n",
    "ranMat"
   ],
   "metadata": {
    "collapsed": false
   }
  },
  {
   "cell_type": "code",
   "execution_count": null,
   "outputs": [],
   "source": [
    "from algori import *\n",
    "kangkang = Topic(' kangkang ', 1906210117)\n",
    "count = 0\n",
    "long=3\n",
    "mat = Topic.setMat(long, long,0,1) # 产生一个全0的矩阵\n",
    "mat2=Topic.setMat(long, long,0,1) # 产生一个全0的矩阵\n",
    "print(\"x\")\n",
    "while count<3:\n",
    "    xRow1 = Matrix(np.random.randint(-10, 10, (1, long-(count))) )# 随机产生1*long长度的矩阵\n",
    "    z=Matrix(xCol1[:count+1,:])\n",
    "    yRow1=Matrix(z.row_join(yRow1))\n",
    "\n",
    "    yCol1 = Matrix(np.random.randint(-10, 10, (long-(count),1)))  # 随机产生long*1的矩阵\n",
    "    F=Matrix(yRow1[:count+1])\n",
    "    xCol1=F.row_insert(count+1,yCol1)\n",
    "\n",
    "\n",
    "\n",
    "    c1 = list(xRow1  * yCol1)[0]\n",
    "    if c1 == 1:  # 判断两矩阵相乘是否为一\n",
    "        mat.row_del(count)\n",
    "        mat = mat.row_insert(count, xRow1)\n",
    "        mat2.col_del(count)\n",
    "        mat2 = mat2.col_insert(count, yCol1)\n",
    "        print(mat)\n",
    "        print(mat2)\n",
    "\n",
    "        yRow1=Matrix(np.random.randint(-10, 10, (1, long-(count+1))))\n",
    "        z=Matrix(yCol1[:count+1,:])\n",
    "        yRow1=Matrix(z.row_join(yRow1))\n",
    "        print(yRow1)\n",
    "\n",
    "        xCol1=Matrix(np.random.randint(-10, 10, (long-(count+1), 1)))\n",
    "        F=Matrix(xRow1[:count+1])\n",
    "        xCol1=F.row_insert(count+1,xCol1)\n",
    "        print(xCol1)\n",
    "        c1 = list(yRow1  * xCol1)[0]\n",
    "\n",
    "        if c1 == 1:  # 判断两矩阵相乘是否为一\n",
    "            print(\"11\",mat)\n",
    "            mat.col_del(count)\n",
    "            print(\"11\",mat)\n",
    "            mat = mat.col_insert(count, xCol1)\n",
    "            print('11',mat)\n",
    "            print('22',mat2)\n",
    "            mat2.row_del(count)\n",
    "            print('22',mat2)\n",
    "            mat2 = mat2.row_insert(count, yRow1)\n",
    "            print('22',mat2)\n",
    "            count+=1"
   ],
   "metadata": {
    "collapsed": false
   }
  },
  {
   "cell_type": "code",
   "execution_count": null,
   "outputs": [],
   "source": [
    "mat"
   ],
   "metadata": {
    "collapsed": false
   }
  },
  {
   "cell_type": "code",
   "execution_count": null,
   "outputs": [],
   "source": [
    "mat2"
   ],
   "metadata": {
    "collapsed": false
   }
  },
  {
   "cell_type": "code",
   "execution_count": null,
   "outputs": [],
   "source": [
    "mat2"
   ],
   "metadata": {
    "collapsed": false
   }
  },
  {
   "cell_type": "code",
   "execution_count": null,
   "outputs": [],
   "source": [],
   "metadata": {
    "collapsed": false
   }
  },
  {
   "cell_type": "code",
   "execution_count": null,
   "outputs": [],
   "source": [
    "import numpy as np\n",
    "# 生成第一个矩阵\n",
    "arr1 = np.random.randint(1,50,size=(4,4))\n",
    "# 生成第二个矩阵，使其与第一个矩阵互为可逆矩阵\n",
    "arr2 = np.linalg.inv(arr1).astype(int)\n",
    "# 输出结果\n",
    "print(\"第一个矩阵：\\n\",arr1)\n",
    "\n",
    "print(\"第二个矩阵：\\n\", arr2)"
   ],
   "metadata": {
    "collapsed": false
   }
  },
  {
   "cell_type": "code",
   "execution_count": null,
   "outputs": [],
   "source": [
    "import numpy as np\n",
    "\n",
    "while 1:\n",
    "  C = np.random.randint(-10, 10, size=(3, 3))\n",
    "  print(C)\n",
    "  D = np.linalg.inv(C)\n",
    "  print(D)\n",
    "  if np.allclose(np.dot(C, D), np.eye(3)) and (D % 1 == 0).all():\n",
    "      print(\"C = \\n\", C, \"\\nD = \\n\", D)\n",
    "      break"
   ],
   "metadata": {
    "collapsed": false
   }
  },
  {
   "cell_type": "code",
   "execution_count": null,
   "outputs": [],
   "source": [
    "Matrix([[1, 1, 0, 0], [3, 2, 0, 0], [0, 0, 2, 0], [0, 0, 0, 3]])"
   ],
   "metadata": {
    "collapsed": false
   }
  },
  {
   "cell_type": "code",
   "execution_count": null,
   "outputs": [],
   "source": [
    "Matrix([[3, 2, 0, 0], [4, 2, 0, 0], [0, 0, 5, 1], [0, 0, 2, 0]])"
   ],
   "metadata": {
    "collapsed": false
   }
  },
  {
   "cell_type": "code",
   "execution_count": null,
   "outputs": [],
   "source": [
    "Matrix([[1, 0, 0], [0, 1, 1], [0, 2, 1]])"
   ],
   "metadata": {
    "collapsed": false
   }
  },
  {
   "cell_type": "code",
   "execution_count": null,
   "outputs": [],
   "source": [
    "Matrix([[1, 0, 0], [0, 8, 1], [0, 1, 0]])"
   ],
   "metadata": {
    "collapsed": false
   }
  },
  {
   "cell_type": "code",
   "execution_count": null,
   "outputs": [],
   "source": [
    "Matrix([[2, 0, 0, 0], [5, 1, 0, 0], [0, 0, 7, 4], [0, 0, 9, 5]])"
   ],
   "metadata": {
    "collapsed": false
   }
  },
  {
   "cell_type": "code",
   "execution_count": null,
   "outputs": [],
   "source": [
    "Matrix([[2, 0, 0, 0, 0], [1, 1, 0, 0, 0], [0, 0, 0, 2, 7], [0, 0, 2, 4, 1], [0, 0, 3, 6, 1]])"
   ],
   "metadata": {
    "collapsed": false
   }
  },
  {
   "cell_type": "code",
   "execution_count": null,
   "outputs": [],
   "source": [
    "import  numpy as np\n",
    "a=np.asarray([1,1,1])\n",
    "print(np.sqrt(a.dot(a)))\n",
    "print(np.linalg.norm(a))"
   ],
   "metadata": {
    "collapsed": false
   }
  },
  {
   "cell_type": "code",
   "execution_count": null,
   "outputs": [],
   "source": [
    "import numpy as np\n",
    "\n",
    "x = np.array([1, 2, 3, 4, 5, 6, 7])\n",
    "\n",
    "y = np.array([2, 3, 4, 5, 6, 7, 8])\n",
    "\n",
    "result = np.dot(x, y)\n",
    "\n",
    "print(result)"
   ],
   "metadata": {
    "collapsed": false
   }
  },
  {
   "cell_type": "code",
   "execution_count": null,
   "outputs": [],
   "source": [
    "from sympy import *\n",
    "\n",
    "p1 = Matrix([[1,2],[3,4]])\n",
    "y = Matrix([[5],[9]])\n",
    "print(p1**(-1)*y)\n",
    "p2 = Matrix([[1,3,4],[2,3,4]])\n",
    "print(p1**(-1)*p2)\n",
    "\n",
    "p3 = Matrix([[1,0,3],[2,5,4],[3,4,5]])\n",
    "p4 = Matrix([[1,3,4],[2,7,4],[6,5,8]])\n",
    "print(p3**(-1)*p4)\n"
   ],
   "metadata": {
    "collapsed": false
   }
  },
  {
   "cell_type": "code",
   "execution_count": null,
   "outputs": [],
   "source": [
    "b = np.random.random(3)"
   ],
   "metadata": {
    "collapsed": false
   }
  },
  {
   "cell_type": "code",
   "execution_count": null,
   "outputs": [],
   "source": [
    "b"
   ],
   "metadata": {
    "collapsed": false
   }
  },
  {
   "cell_type": "code",
   "execution_count": null,
   "outputs": [],
   "source": [
    "import numpy as np                              #导入numpy\n",
    "def maxIndepGrp(A):\n",
    "    m,n=A.shape                                 #读取向量位数m和个数n\n",
    "    r,order=rowLadder(A,m,n)                    #计算行阶梯阵\n",
    "    simplestLadder(A,r)                         #计算最简行阶梯阵\n",
    "    return r,order,A[:r,r:]\n"
   ],
   "metadata": {
    "collapsed": false
   }
  },
  {
   "cell_type": "code",
   "execution_count": null,
   "outputs": [],
   "source": [
    "\n",
    "\n",
    "list1 = [[2, 2, 6], [1, 2, 3], [1, 1, 1]]\n",
    "\n",
    "result = [sublist for sublist in list1]\n",
    "\n",
    "print(result)"
   ],
   "metadata": {
    "collapsed": false
   }
  },
  {
   "cell_type": "code",
   "execution_count": null,
   "outputs": [],
   "source": [
    "def flat(l):\n",
    "    for k in l:\n",
    "        if not isinstance(k, (list, tuple)):\n",
    "            yield k\n",
    "        else:\n",
    "            yield from flat(k)\n",
    "a=[[\n",
    "[2],\n",
    "[1],\n",
    "[1]], [\n",
    "[2],\n",
    "[2],\n",
    "[1]], [\n",
    "[6],\n",
    "[3],\n",
    "[1]]]\n",
    "print ('flat result:',list(flat(a)))\n"
   ],
   "metadata": {
    "collapsed": false
   }
  },
  {
   "cell_type": "code",
   "execution_count": null,
   "outputs": [],
   "source": [
    "merge=sum(a,[])\n",
    "print('sum result:',merge)"
   ],
   "metadata": {
    "collapsed": false
   }
  },
  {
   "cell_type": "code",
   "execution_count": null,
   "outputs": [],
   "source": [
    "import numpy as np                                  #导入numpy\n",
    "\n",
    "a1=np.array([2,1,4,3],dtype='float').reshape(4,1)   #向量组设置\n",
    "a2=np.array([-1,1,-6,6],dtype='float').reshape(4,1)\n",
    "a3=np.array([-1,-2,2,-9],dtype='float').reshape(4,1)\n",
    "a4=np.array([1,1,-2,7],dtype='float').reshape(4,1)\n",
    "a5=np.array([2,4,4,9],dtype='float').reshape(4,1)\n",
    "A=np.hstack((a1,a2,a3,a4,a5))                       #组成矩阵\n",
    "_,n=A.shape                                         #向量个数\n",
    "\n"
   ],
   "metadata": {
    "collapsed": false
   }
  },
  {
   "cell_type": "code",
   "execution_count": null,
   "outputs": [],
   "source": [
    "M = Matrix([[3,-2,4,-2],[5,3,-3,-2],[5,-2,2,-2],[5,-2,-3,3]])\n",
    "print(M)\n",
    "print(\"计算矩阵的特征值\")\n",
    "print(M.eigenvals())"
   ],
   "metadata": {
    "collapsed": false
   }
  },
  {
   "cell_type": "code",
   "execution_count": null,
   "outputs": [],
   "source": [
    "import numpy as np\n",
    "\n",
    "a = np.array(Matrix([[6, -5, -1], [-5, 0, 0], [-1, 0, 8]]))\n",
    "x = len(a)\n",
    "print('原矩阵：\\n',a)\n",
    "for n in range(x):\n",
    "    if a[n, n] == 0 and n != x - 1:\n",
    "        v = 0\n",
    "        for i in range(x):\n",
    "            v = v + a[n, i]\n",
    "        if v == 0:\n",
    "            continue\n",
    "        else:\n",
    "            for i in range(x):\n",
    "                if a[n, i] == 0:\n",
    "                    continue\n",
    "                else:\n",
    "                    for p in range(x):\n",
    "                        a[int(f'{p}'), int(f'{n}')] -= a[int(f'{p}'), int(f'{i}')]\n",
    "                    for p in range(x):\n",
    "                        a[int(f'{n}'), int(f'{p}')] -= a[int(f'{i}'), int(f'{p}')]\n",
    "                    break\n",
    "        for i in range(n + 1, x):\n",
    "            xi_shu = a[n, i] / a[n, n]\n",
    "            for p in range(x):\n",
    "                a[int(f'{p}'), int(f'{i}')] -= a[int(f'{p}'), int(f'{n}')] * xi_shu\n",
    "            for p in range(x):\n",
    "                a[int(f'{i}'), int(f'{p}')] -= a[int(f'{n}'), int(f'{p}')] * xi_shu\n",
    "    else:\n",
    "        for i in range(n + 1, x):\n",
    "            xi_shu = a[n, i] / a[n, n]\n",
    "            for p in range(x):\n",
    "                a[int(f'{p}'), int(f'{i}')] -= a[int(f'{p}'), int(f'{n}')] * xi_shu\n",
    "            for p in range(x):\n",
    "                a[int(f'{i}'), int(f'{p}')] -= a[int(f'{n}'), int(f'{p}')] * xi_shu\n",
    "print('标准化矩阵：\\n',a)\n"
   ],
   "metadata": {
    "collapsed": false
   }
  },
  {
   "cell_type": "code",
   "execution_count": null,
   "outputs": [],
   "source": [
    "from tkinter import *\n",
    "\n",
    "top=Tk()\n",
    "top.wm_title(\"菜单\")\n",
    "top.geometry(\"400x300+300+100\")\n",
    "\n",
    "# 创建一个菜单项，类似于导航栏\n",
    "menubar=Menu(top)\n",
    "\n",
    "# 创建菜单项\n",
    "fmenu1=Menu(top)\n",
    "for item in ['新建','打开','保存','另存为']:\n",
    "    # 如果该菜单时顶层菜单的一个菜单项，则它添加的是下拉菜单的菜单项。\n",
    "    fmenu1.add_command(label=item)\n",
    "\n",
    "fmenu2=Menu(top)\n",
    "for item in ['复制','粘贴','剪切']:\n",
    "    fmenu2.add_command(label=item)\n",
    "\n",
    "fmenu3=Menu(top)\n",
    "for item in ['默认视图','新式视图']:\n",
    "    fmenu3.add_command(label=item)\n",
    "\n",
    "fmenu4=Menu(top)\n",
    "for item in [\"版权信息\",\"其他说明\"]:\n",
    "    fmenu4.add_command(label=item)\n",
    "\n",
    "# add_cascade 的一个很重要的属性就是 menu 属性，它指明了要把那个菜单级联到该菜单项上，\n",
    "# 当然，还必不可少的就是 label 属性，用于指定该菜单项的名称\n",
    "menubar.add_cascade(label=\"文件\",menu=fmenu1)\n",
    "menubar.add_cascade(label=\"编辑\",menu=fmenu2)\n",
    "menubar.add_cascade(label=\"视图\",menu=fmenu3)\n",
    "menubar.add_cascade(label=\"关于\",menu=fmenu4)\n",
    "\n",
    "# 最后可以用窗口的 menu 属性指定我们使用哪一个作为它的顶层菜单\n",
    "top['menu']=menubar\n",
    "top.mainloop()"
   ],
   "metadata": {
    "collapsed": false
   }
  },
  {
   "cell_type": "code",
   "execution_count": null,
   "outputs": [],
   "source": [
    "def displaymatrix():\n",
    "    import tkinter as tk\n",
    "    linearwindow=tk.Tk()\n",
    "    linearwindow.title(\"DisplayMatrix\")\n",
    "    linearwindow.geometry(\"600x700\")\n",
    "    def lie():\n",
    "        lie=eval(e2.get())\n",
    "    def dpm():\n",
    "        ma=[]\n",
    "        lie=eval(e2.get())\n",
    "        ma=eval(e3.get())\n",
    "        #print(ma)\n",
    "        for k in ma:\n",
    "            if len(k) != lie:\n",
    "                tx.insert('insert',\"【错误】列数输入错误或矩阵输入错误！\\n\")\n",
    "                return\n",
    "        for i in ma:\n",
    "            tx.insert('insert','[ ')\n",
    "            for j in range(0,len(i)):\n",
    "                tx.insert('insert',i[j])\n",
    "                tx.insert('insert',' ')\n",
    "            tx.insert('insert',']\\n')\n",
    "\n",
    "        tx.insert('insert','\\n')\n",
    "    e2 = tk.Entry(linearwindow,font=('Arial', 14))\n",
    "    e2.pack()\n",
    "    bt2=tk.Button(linearwindow,text='确认列数',width=10,height=2,font=('Arial', 12),command=lie)\n",
    "    bt2.pack()\n",
    "    lb1=tk.Label(linearwindow, text='输入矩阵元素时以[]分隔每行：\\nexamp:[[1,2,3],[2,5,6]]', bg='orange', font=('Arial', 12), width=30, height=2)\n",
    "    lb1.pack()\n",
    "    e3 = tk.Entry(linearwindow,font=('Arial', 14))\n",
    "    e3.pack()\n",
    "    bt3=tk.Button(linearwindow,text='显示矩阵形式',width=10,height=2,font=('Arial', 12),command=dpm)\n",
    "    bt3.pack()\n",
    "    tx=tk.Text(linearwindow,width=30,height=30)\n",
    "    tx.pack()\n",
    "    linearwindow.mainloop()\n"
   ],
   "metadata": {
    "collapsed": false
   }
  },
  {
   "cell_type": "code",
   "execution_count": null,
   "outputs": [],
   "source": [
    "from trueOrFalse import *\n",
    "jud=TrueOrFalse()\n",
    "for i in range(len(jud.text1)):\n",
    "    print(jud.text1[i],jud.issue[i],jud.text2[i])\n",
    "    print('\\n')"
   ],
   "metadata": {
    "collapsed": false
   }
  },
  {
   "cell_type": "code",
   "execution_count": null,
   "outputs": [],
   "source": [
    "from menu import *"
   ],
   "metadata": {
    "collapsed": false
   }
  },
  {
   "cell_type": "code",
   "execution_count": null,
   "outputs": [],
   "source": [
    "vector=[Matrix([\n",
    "    [3],\n",
    "    [1],\n",
    "    [1]]), Matrix([\n",
    "    [3],\n",
    "    [1],\n",
    "    [1]]), Matrix([\n",
    "    [4],\n",
    "    [2],\n",
    "    [1]])]\n",
    "\n",
    "vec1 = []\n",
    "for i in range(len(vector)):  # 将向量组转换成一个矩阵\n",
    "    vec2 = np.array(vector)[i].reshape(1, -1)\n",
    "    vec1.append(list(vec2[0]))\n",
    "vec1 = Matrix(vec1).T"
   ],
   "metadata": {
    "collapsed": false
   }
  },
  {
   "cell_type": "code",
   "execution_count": null,
   "outputs": [],
   "source": [
    "vec1"
   ],
   "metadata": {
    "collapsed": false
   }
  },
  {
   "cell_type": "code",
   "execution_count": null,
   "outputs": [],
   "source": [
    "import numpy as np\n",
    "\n",
    "matrix = np.array([[1, 2, 3], [4, 5, 6], [7, 8, 9]])\n",
    "rank = np.linalg.matrix_rank(matrix)\n",
    "print(\"Rank of the matrix:\", rank)\n"
   ],
   "metadata": {
    "collapsed": false
   }
  },
  {
   "cell_type": "code",
   "execution_count": null,
   "outputs": [],
   "source": [
    "x=Matrix([[-3, -4, -21, -5],[ 3,  1,  11, -1],[ 2,  2,  12,  2]])"
   ],
   "metadata": {
    "collapsed": false
   }
  },
  {
   "cell_type": "code",
   "execution_count": null,
   "outputs": [],
   "source": [
    "rank = np.linalg.matrix_rank(np.array(x))\n",
    "print(\"Rank of the matrix:\", rank)"
   ],
   "metadata": {
    "collapsed": false
   }
  },
  {
   "cell_type": "code",
   "execution_count": null,
   "outputs": [],
   "source": [
    "getmatRank(x)"
   ],
   "metadata": {
    "collapsed": false
   }
  },
  {
   "cell_type": "code",
   "execution_count": null,
   "outputs": [],
   "source": [
    "\n",
    "v = np.array([1, 2, 3, 4, 5])\n",
    "Z = np.diag(v)\n",
    "\n",
    "print(Z)"
   ],
   "metadata": {
    "collapsed": false
   }
  },
  {
   "cell_type": "code",
   "execution_count": null,
   "outputs": [],
   "source": [
    "v"
   ],
   "metadata": {
    "collapsed": false
   }
  },
  {
   "cell_type": "code",
   "execution_count": null,
   "outputs": [],
   "source": [
    "a=[[5, 8, 0, 4], [8, 3, 3, 7], [0, 3, 6, 0], [4, 7, 0, 7]]\n",
    "a=Matrix(a)\n",
    "x=[]\n",
    "for i in range(len(np.array(a))):\n",
    "    for j in range(len(np.array(a)[i])):\n",
    "        if i!=j and np.array(a)[i][j]!=0:\n",
    "            print('a')"
   ],
   "metadata": {
    "collapsed": false
   }
  },
  {
   "cell_type": "code",
   "execution_count": null,
   "outputs": [],
   "source": [
    "for i in range(len(np.array(a))):\n",
    "    x.append(np.array(a)[i][i])\n",
    "x"
   ],
   "metadata": {
    "collapsed": false
   }
  },
  {
   "cell_type": "code",
   "execution_count": null,
   "outputs": [],
   "source": [
    "a=Matrix([[5, 8, 0, 4], [8, 3, 3, 7], [0, 3, 6, 0], [4, 7, 0, 7], [4, 7, 0, 7]])\n",
    "x=[]"
   ],
   "metadata": {
    "collapsed": false
   }
  },
  {
   "cell_type": "code",
   "execution_count": null,
   "outputs": [],
   "source": [
    "for i in range(np.shape(np.array(a))[1]):\n",
    "    x.append(Matrix(a.col(i)))\n",
    "x"
   ],
   "metadata": {
    "collapsed": false
   }
  },
  {
   "cell_type": "code",
   "execution_count": null,
   "outputs": [],
   "source": [
    "np.shape(np.array(a))"
   ],
   "metadata": {
    "collapsed": false
   }
  },
  {
   "cell_type": "code",
   "execution_count": null,
   "outputs": [],
   "source": [],
   "metadata": {
    "collapsed": false
   }
  },
  {
   "cell_type": "code",
   "execution_count": null,
   "outputs": [],
   "source": [
    "a=[[[6], [2], [1], [1]], [[18], [6], [2], [1]], [[3], [3], [1], [1]], [[4], [2], [2], [1]]]"
   ],
   "metadata": {
    "collapsed": false
   }
  },
  {
   "cell_type": "code",
   "execution_count": null,
   "outputs": [],
   "source": [
    "a"
   ],
   "metadata": {
    "collapsed": false
   }
  },
  {
   "cell_type": "code",
   "execution_count": null,
   "outputs": [],
   "source": [
    "Matrix(a)"
   ],
   "metadata": {
    "collapsed": false
   }
  },
  {
   "cell_type": "code",
   "execution_count": null,
   "outputs": [],
   "source": [
    "Matrix([\n",
    "[2],\n",
    "[1],\n",
    "[1],\n",
    "[1]])"
   ],
   "metadata": {
    "collapsed": false
   }
  },
  {
   "cell_type": "code",
   "execution_count": null,
   "outputs": [],
   "source": [
    "def listToMat(l):\n",
    "    mat=[]\n",
    "    for i in l:\n",
    "        mat.append(Matrix(i))\n",
    "    return mat"
   ],
   "metadata": {
    "collapsed": false
   }
  },
  {
   "cell_type": "code",
   "execution_count": null,
   "outputs": [],
   "source": [
    "listToMat(a)"
   ],
   "metadata": {
    "collapsed": false
   }
  },
  {
   "cell_type": "code",
   "execution_count": null,
   "outputs": [],
   "source": [
    "def echelon_matrix(matrix):\n",
    "    rows = len(matrix)\n",
    "    cols = len(matrix[0])\n",
    "    lead = 0\n",
    "    for r in range(rows):\n",
    "        if lead >= cols:\n",
    "            return matrix\n",
    "        i = r\n",
    "        while matrix[i][lead] == 0:\n",
    "            i += 1\n",
    "            if i == rows:\n",
    "                i = r\n",
    "                lead += 1\n",
    "                if cols == lead:\n",
    "                    return matrix\n",
    "        matrix[i], matrix[r] = matrix[r], matrix[i]\n",
    "        lv = matrix[r][lead]\n",
    "        matrix[r] = [x / float(lv) for x in matrix[r]]\n",
    "        for i in range(rows):\n",
    "            if i != r:\n",
    "                lv = matrix[i][lead]\n",
    "                matrix[i] = [x - lv * matrix[r][ix] for ix, x in enumerate(matrix[i])]\n",
    "        lead += 1\n",
    "    return matrix\n",
    "\n"
   ],
   "metadata": {
    "collapsed": false
   }
  },
  {
   "cell_type": "code",
   "execution_count": null,
   "outputs": [],
   "source": [
    "matrix =[[9, 1, 3, 39, 9], [3, 0, 1, 12, 3], [3, 0, 0, 10, 3], [1, 0, 0, 3, 1]]\n",
    "result = echelon_matrix(matrix)\n",
    "print(result)"
   ],
   "metadata": {
    "collapsed": false
   }
  },
  {
   "cell_type": "code",
   "execution_count": null,
   "outputs": [],
   "source": [
    "mat=setMat(3,4)#生成一个矩阵\n",
    "mat"
   ],
   "metadata": {
    "collapsed": false
   }
  },
  {
   "cell_type": "code",
   "execution_count": null,
   "outputs": [],
   "source": [
    "print(mat.rank())\n",
    "print(mat.shape[])"
   ],
   "metadata": {
    "collapsed": false
   }
  },
  {
   "cell_type": "code",
   "execution_count": 14,
   "outputs": [
    {
     "name": "stdout",
     "output_type": "stream",
     "text": [
      "<class 'sympy.matrices.dense.MutableDenseMatrix'>\n"
     ]
    },
    {
     "data": {
      "text/plain": "Matrix(0, 0, [])",
      "text/latex": "$\\displaystyle \\left[\\begin{matrix}\\end{matrix}\\right]$"
     },
     "execution_count": 14,
     "metadata": {},
     "output_type": "execute_result"
    }
   ],
   "source": [
    "from sympy import *\n",
    "from algori import *\n",
    "mat=[['1/6',1,0,0,1],[1,1,-1,0,0],[0,0,1,1,1]]\n",
    "mat=listStrToMat(mat)\n",
    "print(type(mat))\n"
   ],
   "metadata": {
    "collapsed": false
   }
  },
  {
   "cell_type": "code",
   "execution_count": 15,
   "outputs": [
    {
     "data": {
      "text/plain": "Matrix(0, 0, [])",
      "text/latex": "$\\displaystyle \\left[\\begin{matrix}\\end{matrix}\\right]$"
     },
     "execution_count": 15,
     "metadata": {},
     "output_type": "execute_result"
    }
   ],
   "source": [
    "mat"
   ],
   "metadata": {
    "collapsed": false
   }
  },
  {
   "cell_type": "code",
   "execution_count": 32,
   "outputs": [
    {
     "data": {
      "text/plain": "Matrix([\n[-2],\n[ 1],\n[-1],\n[ 0],\n[ 1]])",
      "text/latex": "$\\displaystyle \\left[\\begin{matrix}-2\\\\1\\\\-1\\\\0\\\\1\\end{matrix}\\right]$"
     },
     "execution_count": 32,
     "metadata": {},
     "output_type": "execute_result"
    }
   ],
   "source": [
    "mat2=Matrix([-2,1,-1,0,1])\n",
    "mat2"
   ],
   "metadata": {
    "collapsed": false
   }
  },
  {
   "cell_type": "code",
   "execution_count": 33,
   "outputs": [
    {
     "data": {
      "text/plain": "Matrix([\n[0],\n[0],\n[0]])",
      "text/latex": "$\\displaystyle \\left[\\begin{matrix}0\\\\0\\\\0\\end{matrix}\\right]$"
     },
     "execution_count": 33,
     "metadata": {},
     "output_type": "execute_result"
    }
   ],
   "source": [
    "mat*mat2"
   ],
   "metadata": {
    "collapsed": false
   }
  },
  {
   "cell_type": "code",
   "execution_count": 48,
   "outputs": [
    {
     "name": "stdout",
     "output_type": "stream",
     "text": [
      "Matrix([[-2], [1], [-1], [0], [1]])\n"
     ]
    }
   ],
   "source": [
    "mat=[Matrix([-1,1,0,0,0]),Matrix([-1,0,-1,0,1])]\n",
    "sum=mat[0]\n",
    "for i in range(len(mat)-1):#将所有的基础解系加起来,验算解\n",
    "    sum=getAddMat(sum,mat[i+1])\n",
    "print(sum)"
   ],
   "metadata": {
    "collapsed": false
   }
  },
  {
   "cell_type": "code",
   "execution_count": 85,
   "outputs": [],
   "source": [
    "def judgeHomEquationUntie(topic,mat):\n",
    "    \"\"\"\n",
    "    判断齐次方程组的解是否正确\n",
    "    :param mat:\n",
    "    :return:\n",
    "    >>>\n",
    "    \"\"\"\n",
    "    sum = mat[0]\n",
    "    for i in range(len(mat) - 1):  # 将所有的基础解系加起来,验算解\n",
    "        sum = getAddMat(sum, mat[i + 1])\n",
    "    print(topic[0])\n",
    "    print(sum)\n",
    "    print(topic[0]*sum)\n",
    "    if(topic[0]*sum==topic[1]):\n",
    "        return True\n",
    "    else:\n",
    "        return False"
   ],
   "metadata": {
    "collapsed": false
   }
  },
  {
   "cell_type": "code",
   "execution_count": 88,
   "outputs": [
    {
     "data": {
      "text/plain": "[Matrix([\n [-1],\n [ 1],\n [ 0],\n [ 0],\n [ 0]]),\n Matrix([\n [-1],\n [ 0],\n [-1],\n [ 0],\n [ 1]])]"
     },
     "execution_count": 88,
     "metadata": {},
     "output_type": "execute_result"
    }
   ],
   "source": [
    "mat1=(Matrix([[1,1,0,0,1],[1,1,-1,0,0],[0,0,1,1,1]]),Matrix([0,0,0]))\n",
    "mat2=[Matrix([-1,1,0,0,0]),Matrix([-1,0,-1,0,1])]\n",
    "mat2"
   ],
   "metadata": {
    "collapsed": false
   }
  },
  {
   "cell_type": "code",
   "execution_count": 87,
   "outputs": [
    {
     "name": "stdout",
     "output_type": "stream",
     "text": [
      "Matrix([[1, 1, 0, 0, 1], [1, 1, -1, 0, 0], [0, 0, 1, 1, 1]])\n",
      "Matrix([[-2], [1], [-1], [0], [1]])\n",
      "Matrix([[0], [0], [0]])\n",
      "True\n"
     ]
    }
   ],
   "source": [
    "print(judgeHomEquationUntie(mat1,mat2))"
   ],
   "metadata": {
    "collapsed": false
   }
  },
  {
   "cell_type": "code",
   "execution_count": 89,
   "outputs": [
    {
     "name": "stdout",
     "output_type": "stream",
     "text": [
      "截取矩阵第二三行，第二、三列：\n",
      " [[ 6  7]\n",
      " [12 13]]\n"
     ]
    }
   ],
   "source": [
    "import numpy as np\n",
    "a1=np.array([[1,2,3,4],[5,6,7,8],[11,12,13,14],[2,3,4,5]])\n",
    "print('截取矩阵第二三行，第二、三列：\\n',a1[1:3,1:3])"
   ],
   "metadata": {
    "collapsed": false
   }
  },
  {
   "cell_type": "code",
   "execution_count": 90,
   "outputs": [
    {
     "data": {
      "text/plain": "array([[ 1,  2,  3,  4],\n       [ 5,  6,  7,  8],\n       [11, 12, 13, 14],\n       [ 2,  3,  4,  5]])"
     },
     "execution_count": 90,
     "metadata": {},
     "output_type": "execute_result"
    }
   ],
   "source": [
    "a1"
   ],
   "metadata": {
    "collapsed": false
   }
  },
  {
   "cell_type": "code",
   "execution_count": 130,
   "outputs": [],
   "source": [
    "from algori import *\n",
    "def setNotHomEquation(long=4, wid=6, minNum=-2, maxNum=2, returnlist=False):\n",
    "    \"\"\"\n",
    "\n",
    "    :param long:增广矩阵的行数\n",
    "    :param wid: 增光矩阵的列数\n",
    "    :param minNum: 增广矩阵中最小的数\n",
    "    :param maxNum: 增广矩阵中最大的数\n",
    "    :param returnlist: 是否返回列表\n",
    "    :return: (增广矩阵的系数，增广矩阵的值)\n",
    "    >>> setNotHomEquation()\n",
    "\n",
    "    \"\"\"\n",
    "    mat = setMat(long, wid, minNum, maxNum)  # 生成一个long*wid的增广矩阵\n",
    "    mat2=Matrix(np.array(mat)[:,:mat.shape[1]-1]) #截取增广矩阵的系数矩阵\n",
    "    mat3 = mat.col(mat.shape[1]-1)#截取增广矩阵的结果 and np.sum(np.array(mat3)==0)<long\n",
    "    print(np.sum(np.array(mat3)==0))\n",
    "    if (mat.rank() < mat.shape[1]-1 and mat.rank()==mat2.rank() and np.sum(np.array(mat3)==0)<long):  # 判断非齐次方程是否有无穷多解，如果没有则重新生成\n",
    "        print('有无穷多解')\n",
    "        print(mat3)\n",
    "        print(mat)\n",
    "        print(mat2)\n",
    "        if returnlist:\n",
    "            mat = mat.tolist()\n",
    "            mat2 = mat2.tolist()\n",
    "            mat3 = mat3.tolist()\n",
    "            return [mat2, mat3]\n",
    "        else:\n",
    "            return (mat2, mat3)\n",
    "    else:\n",
    "        (mat2,mat3)=setNotHomEquation(long, wid, minNum, maxNum,returnlist)\n",
    "        return (mat2,mat3)"
   ],
   "metadata": {
    "collapsed": false
   }
  },
  {
   "cell_type": "code",
   "execution_count": 185,
   "outputs": [
    {
     "name": "stdout",
     "output_type": "stream",
     "text": [
      "0\n",
      "有无穷多解\n",
      "Matrix([[-31], [-14], [-4], [-3]])\n",
      "Matrix([[6, 1, 2, 21, -2, -31], [3, 0, 1, 9, -2, -14], [1, 0, 0, 2, -1, -4], [1, 0, 0, 1, -1, -3]])\n",
      "Matrix([[6, 1, 2, 21, -2], [3, 0, 1, 9, -2], [1, 0, 0, 2, -1], [1, 0, 0, 1, -1]])\n"
     ]
    },
    {
     "data": {
      "text/plain": "(Matrix([\n [6, 1, 2, 21, -2],\n [3, 0, 1,  9, -2],\n [1, 0, 0,  2, -1],\n [1, 0, 0,  1, -1]]),\n Matrix([\n [-31],\n [-14],\n [ -4],\n [ -3]]))"
     },
     "execution_count": 185,
     "metadata": {},
     "output_type": "execute_result"
    }
   ],
   "source": [
    "mat4=setNotHomEquation()\n",
    "\n",
    "\n",
    "\n",
    "\n",
    "\n",
    "\n",
    "mat4"
   ],
   "metadata": {
    "collapsed": false
   }
  },
  {
   "cell_type": "code",
   "execution_count": 129,
   "outputs": [],
   "source": [
    "mat4"
   ],
   "metadata": {
    "collapsed": false
   }
  },
  {
   "cell_type": "code",
   "execution_count": 116,
   "outputs": [
    {
     "data": {
      "text/plain": "Matrix([\n[4, 1, 2, 19, 0],\n[2, 0, 1,  8, 0],\n[2, 0, 0,  5, 0],\n[1, 0, 0,  2, 0]])",
      "text/latex": "$\\displaystyle \\left[\\begin{matrix}4 & 1 & 2 & 19 & 0\\\\2 & 0 & 1 & 8 & 0\\\\2 & 0 & 0 & 5 & 0\\\\1 & 0 & 0 & 2 & 0\\end{matrix}\\right]$"
     },
     "execution_count": 116,
     "metadata": {},
     "output_type": "execute_result"
    }
   ],
   "source": [
    "mat2"
   ],
   "metadata": {
    "collapsed": false
   }
  },
  {
   "cell_type": "code",
   "execution_count": 117,
   "outputs": [
    {
     "data": {
      "text/plain": "Matrix([\n[-18],\n[ -8],\n[ -5],\n[ -2]])",
      "text/latex": "$\\displaystyle \\left[\\begin{matrix}-18\\\\-8\\\\-5\\\\-2\\end{matrix}\\right]$"
     },
     "execution_count": 117,
     "metadata": {},
     "output_type": "execute_result"
    }
   ],
   "source": [
    "mat3"
   ],
   "metadata": {
    "collapsed": false
   }
  },
  {
   "cell_type": "code",
   "execution_count": 7,
   "outputs": [
    {
     "data": {
      "text/plain": "[['6', '6', '6', '2'],\n ['4', '9', '7', '9'],\n ['5', '8', '3', '9'],\n ['0', '5', '0', '9']]"
     },
     "execution_count": 7,
     "metadata": {},
     "output_type": "execute_result"
    }
   ],
   "source": [
    "a=[['6', '6', '6', '2'], ['4', '9', '7', '9'], ['5', '8', '3', '9'], ['0', '5', '0', '9']]\n",
    "a"
   ],
   "metadata": {
    "collapsed": false
   }
  },
  {
   "cell_type": "code",
   "execution_count": 10,
   "outputs": [
    {
     "data": {
      "text/plain": "[[6, 6, 6, 2], [4, 9, 7, 9], [5, 8, 3, 9], [0, 5, 0, 9]]"
     },
     "execution_count": 10,
     "metadata": {},
     "output_type": "execute_result"
    }
   ],
   "source": [
    "listNum=[]\n",
    "for i in a:\n",
    "     number=[ int(x) for x in i ]\n",
    "     listNum.append(number)\n",
    "listNum"
   ],
   "metadata": {
    "collapsed": false
   }
  },
  {
   "cell_type": "code",
   "execution_count": null,
   "outputs": [],
   "source": [],
   "metadata": {
    "collapsed": false
   }
  },
  {
   "cell_type": "code",
   "execution_count": 37,
   "outputs": [],
   "source": [
    "import numpy as np\n",
    "from sympy import *"
   ],
   "metadata": {
    "collapsed": false
   }
  },
  {
   "cell_type": "code",
   "execution_count": 5,
   "outputs": [
    {
     "data": {
      "text/plain": "3"
     },
     "execution_count": 5,
     "metadata": {},
     "output_type": "execute_result"
    }
   ],
   "source": [
    "\n",
    "import numpy as np\n",
    "from sympy import *\n",
    "a=[[['6/7', '4', '1', '7', '7'], ['5', '7', '1', '5', '2'], ['1', '0', '4', '0', '4'], ['9', '1', '0', '2', '5'], ['8', '0', '4', '1', '8']], [['3', '2', '5', '8', '1'], ['2', '6', '4', '6', '5'], ['0', '6', '6', '7', '1'], ['2', '6', '2', '3', '7'], ['0', '9', '9', '6', '3']]]\n",
    "len(np.array(a).shape)"
   ],
   "metadata": {
    "collapsed": false
   }
  },
  {
   "cell_type": "code",
   "execution_count": 6,
   "outputs": [],
   "source": [
    "from numpy import *\n",
    "from sympy import *\n",
    "listNum = []\n",
    "for i in a:\n",
    "    liNum = []\n",
    "    for j in i:\n",
    "        number = [x for x in j]\n",
    "        liNum.append(number)\n",
    "    listNum.append(Matrix(liNum))"
   ],
   "metadata": {
    "collapsed": false
   }
  },
  {
   "cell_type": "code",
   "execution_count": 7,
   "outputs": [
    {
     "data": {
      "text/plain": "[Matrix([\n [6/7, 4, 1, 7, 7],\n [  5, 7, 1, 5, 2],\n [  1, 0, 4, 0, 4],\n [  9, 1, 0, 2, 5],\n [  8, 0, 4, 1, 8]]),\n Matrix([\n [3, 2, 5, 8, 1],\n [2, 6, 4, 6, 5],\n [0, 6, 6, 7, 1],\n [2, 6, 2, 3, 7],\n [0, 9, 9, 6, 3]])]"
     },
     "execution_count": 7,
     "metadata": {},
     "output_type": "execute_result"
    }
   ],
   "source": [
    "listNum"
   ],
   "metadata": {
    "collapsed": false
   }
  },
  {
   "cell_type": "code",
   "execution_count": 63,
   "outputs": [],
   "source": [
    "import numpy as np\n",
    "\n",
    "test=[['1','2'],['1','3']]\n",
    "test"
   ],
   "metadata": {
    "collapsed": false
   }
  },
  {
   "cell_type": "code",
   "execution_count": 14,
   "outputs": [
    {
     "data": {
      "text/plain": "[['6/7', '6', '6', '2'],\n ['4', '9', '7', '9'],\n ['5', '8', '3', '9'],\n ['0', '5', '0', '9']]"
     },
     "execution_count": 14,
     "metadata": {},
     "output_type": "execute_result"
    }
   ],
   "source": [
    "from algori import *\n",
    "test=[['6/7', '6', '6', '2'], ['4', '9', '7', '9'], ['5', '8', '3', '9'], ['0', '5', '0', '9']]\n",
    "test"
   ],
   "metadata": {
    "collapsed": false
   }
  },
  {
   "cell_type": "code",
   "execution_count": 15,
   "outputs": [
    {
     "data": {
      "text/plain": "Matrix([\n[6/7, 6, 6, 2],\n[  4, 9, 7, 9],\n[  5, 8, 3, 9],\n[  0, 5, 0, 9]])",
      "text/latex": "$\\displaystyle \\left[\\begin{matrix}\\frac{6}{7} & 6 & 6 & 2\\\\4 & 9 & 7 & 9\\\\5 & 8 & 3 & 9\\\\0 & 5 & 0 & 9\\end{matrix}\\right]$"
     },
     "execution_count": 15,
     "metadata": {},
     "output_type": "execute_result"
    }
   ],
   "source": [
    "listStrToMat(test)"
   ],
   "metadata": {
    "collapsed": false
   }
  },
  {
   "cell_type": "code",
   "execution_count": 25,
   "outputs": [],
   "source": [
    "def judge_diaMat(topic, answer) -> bool:  # 判断PAP是否为对角阵,对称矩阵对角化后的对角元素不按顺序的话是唯一的\n",
    "    answerDia = answer * topic[0] * answer  # 先计算可逆矩阵与对称矩阵与可逆矩阵相乘的结果\n",
    "\n",
    "    for i in range(len(np.array(answerDia))):  # 先判断answerDia是不是对角矩阵\n",
    "        for j in range(len(np.array(answerDia)[i])):\n",
    "            if i != j and np.array(answerDia)[i][j] != 0:\n",
    "                return False\n",
    "\n",
    "    diaList = []  # 取出答案的生成的对角矩阵的元素列表\n",
    "    answerList = []  # 取出题目的答案的对角矩阵的元素\n",
    "    for i in range(len(np.array(answer))):  # 取出答案的生成的对角矩阵的元素\n",
    "        diaList.append(np.array(answer)[i][i])\n",
    "    for i in range(len(np.array(topic[2]))):  # 取出题目的答案的对角矩阵的元素\n",
    "        answerList.append(np.array(topic[2])[i][i])\n",
    "    for i in answerDia:  # 如果题目答案的对角矩阵不在计算后的对角矩阵中，则错误\n",
    "        if i not in diaList:\n",
    "            return False\n",
    "    return True  # 如果符合以上条件则正确"
   ],
   "metadata": {
    "collapsed": false
   }
  },
  {
   "cell_type": "code",
   "execution_count": 26,
   "outputs": [
    {
     "data": {
      "text/plain": "Matrix([\n[ 2,  1, -4],\n[ 1,  1, -3],\n[-4, -3, 10]])",
      "text/latex": "$\\displaystyle \\left[\\begin{matrix}2 & 1 & -4\\\\1 & 1 & -3\\\\-4 & -3 & 10\\end{matrix}\\right]$"
     },
     "execution_count": 26,
     "metadata": {},
     "output_type": "execute_result"
    }
   ],
   "source": [
    "test1=setQuadratic_Matrix()\n",
    "test1[0]\n"
   ],
   "metadata": {
    "collapsed": false
   }
  },
  {
   "cell_type": "code",
   "execution_count": 27,
   "outputs": [
    {
     "data": {
      "text/plain": "Matrix([\n[2, 1, 1],\n[1, 2, 1],\n[1, 1, 1]])",
      "text/latex": "$\\displaystyle \\left[\\begin{matrix}2 & 1 & 1\\\\1 & 2 & 1\\\\1 & 1 & 1\\end{matrix}\\right]$"
     },
     "execution_count": 27,
     "metadata": {},
     "output_type": "execute_result"
    }
   ],
   "source": [
    "test1[1]"
   ],
   "metadata": {
    "collapsed": false
   }
  },
  {
   "cell_type": "code",
   "execution_count": 28,
   "outputs": [
    {
     "data": {
      "text/plain": "Matrix([\n[1, 0, 0],\n[0, 0, 0],\n[0, 0, 1]])",
      "text/latex": "$\\displaystyle \\left[\\begin{matrix}1 & 0 & 0\\\\0 & 0 & 0\\\\0 & 0 & 1\\end{matrix}\\right]$"
     },
     "execution_count": 28,
     "metadata": {},
     "output_type": "execute_result"
    }
   ],
   "source": [
    "test1[2]"
   ],
   "metadata": {
    "collapsed": false
   }
  },
  {
   "cell_type": "code",
   "execution_count": 29,
   "outputs": [
    {
     "ename": "TypeError",
     "evalue": "can't multiply sequence by non-int of type 'MutableDenseMatrix'",
     "output_type": "error",
     "traceback": [
      "\u001B[1;31m---------------------------------------------------------------------------\u001B[0m",
      "\u001B[1;31mTypeError\u001B[0m                                 Traceback (most recent call last)",
      "Cell \u001B[1;32mIn[29], line 1\u001B[0m\n\u001B[1;32m----> 1\u001B[0m a\u001B[38;5;241m=\u001B[39m\u001B[43mtest1\u001B[49m\u001B[43m[\u001B[49m\u001B[38;5;241;43m1\u001B[39;49m\u001B[43m]\u001B[49m\u001B[38;5;241;43m*\u001B[39;49m\u001B[43mtest\u001B[49m\u001B[43m[\u001B[49m\u001B[38;5;241;43m0\u001B[39;49m\u001B[43m]\u001B[49m\n\u001B[0;32m      2\u001B[0m a\u001B[38;5;241m*\u001B[39mtest1[\u001B[38;5;241m1\u001B[39m]\n",
      "\u001B[1;31mTypeError\u001B[0m: can't multiply sequence by non-int of type 'MutableDenseMatrix'"
     ]
    }
   ],
   "source": [
    "a=test1[1]*test[0]\n",
    "a*test1[1]"
   ],
   "metadata": {
    "collapsed": false
   }
  },
  {
   "cell_type": "code",
   "execution_count": 30,
   "outputs": [
    {
     "data": {
      "text/plain": "Matrix([\n[0,  0,  0],\n[0,  1, -1],\n[0, -1,  1]])",
      "text/latex": "$\\displaystyle \\left[\\begin{matrix}0 & 0 & 0\\\\0 & 1 & -1\\\\0 & -1 & 1\\end{matrix}\\right]$"
     },
     "execution_count": 30,
     "metadata": {},
     "output_type": "execute_result"
    }
   ],
   "source": [
    "Matrix([[0,  0,  0],[0,  1, -1],[0, -1,  1]])"
   ],
   "metadata": {
    "collapsed": false
   }
  },
  {
   "cell_type": "code",
   "execution_count": 31,
   "outputs": [
    {
     "data": {
      "text/plain": "Matrix([\n[2, 1, 2],\n[1, 1, 1],\n[2, 1, 1]])",
      "text/latex": "$\\displaystyle \\left[\\begin{matrix}2 & 1 & 2\\\\1 & 1 & 1\\\\2 & 1 & 1\\end{matrix}\\right]$"
     },
     "execution_count": 31,
     "metadata": {},
     "output_type": "execute_result"
    }
   ],
   "source": [
    " Matrix([[2, 1, 2],[1, 1, 1],[2, 1, 1]])"
   ],
   "metadata": {
    "collapsed": false
   }
  },
  {
   "cell_type": "code",
   "execution_count": 33,
   "outputs": [
    {
     "data": {
      "text/plain": "Matrix([\n[1, 0, 0],\n[0, 0, 0],\n[0, 0, 0]])",
      "text/latex": "$\\displaystyle \\left[\\begin{matrix}1 & 0 & 0\\\\0 & 0 & 0\\\\0 & 0 & 0\\end{matrix}\\right]$"
     },
     "execution_count": 33,
     "metadata": {},
     "output_type": "execute_result"
    }
   ],
   "source": [
    "Matrix([[1, 0, 0],[0, 0, 0],[0, 0, 0]])"
   ],
   "metadata": {
    "collapsed": false
   }
  },
  {
   "cell_type": "code",
   "execution_count": 1,
   "outputs": [],
   "source": [
    "from algori import *\n",
    "a=[['7','7','7'],['7','7','7'],['7','7','7']]\n",
    "b=listStrToMat(a)"
   ],
   "metadata": {
    "collapsed": false
   }
  },
  {
   "cell_type": "code",
   "execution_count": 2,
   "outputs": [
    {
     "data": {
      "text/plain": "Matrix([\n[7, 7, 7],\n[7, 7, 7],\n[7, 7, 7]])",
      "text/latex": "$\\displaystyle \\left[\\begin{matrix}7 & 7 & 7\\\\7 & 7 & 7\\\\7 & 7 & 7\\end{matrix}\\right]$"
     },
     "execution_count": 2,
     "metadata": {},
     "output_type": "execute_result"
    }
   ],
   "source": [
    "b"
   ],
   "metadata": {
    "collapsed": false
   }
  },
  {
   "cell_type": "code",
   "execution_count": null,
   "outputs": [],
   "source": [],
   "metadata": {
    "collapsed": false
   }
  }
 ],
 "metadata": {
  "kernelspec": {
   "display_name": "Python 3",
   "language": "python",
   "name": "python3"
  },
  "language_info": {
   "codemirror_mode": {
    "name": "ipython",
    "version": 2
   },
   "file_extension": ".py",
   "mimetype": "text/x-python",
   "name": "python",
   "nbconvert_exporter": "python",
   "pygments_lexer": "ipython2",
   "version": "2.7.6"
  }
 },
 "nbformat": 4,
 "nbformat_minor": 0
}
